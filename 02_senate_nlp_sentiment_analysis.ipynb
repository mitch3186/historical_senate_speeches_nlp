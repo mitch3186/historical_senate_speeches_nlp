{
 "cells": [
  {
   "cell_type": "markdown",
   "metadata": {},
   "source": [
    "## Senate NLP Project - Sentiment Analysis\n",
    "#### By: Mitch Brinkman"
   ]
  },
  {
   "cell_type": "code",
   "execution_count": null,
   "metadata": {},
   "outputs": [],
   "source": [
    "import pandas as pd\n",
    "import numpy as np\n",
    "import datetime as dt\n",
    "import matplotlib.pyplot as plt\n",
    "import seaborn as sns\n",
    "import statsmodels.formula.api as smf\n",
    "import patsy\n",
    "import re\n",
    "import pickle\n",
    "import string\n",
    "from sklearn.feature_extraction.text import CountVectorizer\n",
    "from nltk.tokenize import word_tokenize, TreebankWordTokenizer, sent_tokenize\n",
    "from nltk.stem import PorterStemmer, WordNetLemmatizer \n",
    "from nltk.util import ngrams\n",
    "from nltk.corpus import stopwords\n",
    "from nltk.probability import FreqDist, ConditionalFreqDist\n",
    "import nltk\n",
    "nltk.download('punkt')\n",
    "nltk.download('wordnet')\n",
    "%matplotlib inline\n",
    "pd.set_option('display.max_rows', 500)\n",
    "from sklearn.feature_extraction import text \n",
    "from vaderSentiment.vaderSentiment import SentimentIntensityAnalyzer"
   ]
  },
  {
   "cell_type": "markdown",
   "metadata": {},
   "source": [
    "#### Function Imports"
   ]
  },
  {
   "cell_type": "code",
   "execution_count": 1,
   "metadata": {},
   "outputs": [],
   "source": [
    "from senate_func import full_vader_speech\n",
    "from senate_func import build_sentiment_tables\n",
    "from senate_func import drop_columns"
   ]
  },
  {
   "cell_type": "markdown",
   "metadata": {},
   "source": [
    "#### DF Types & Names:\n",
    "    Topic\n",
    "        Education: edu_df\n",
    "        Healthcare: hc_df\n",
    "        Banking: fin_df\n",
    "    Era\n",
    "        1980-1988: reagan_df\n",
    "        1989-1992: bush_df\n",
    "        1993-2000: clinton_df\n",
    "        2001-2008: w_bush_df\n",
    "        2009-2016: obama_df\n",
    "    Gender\n",
    "        female_df\n",
    "        male_df\n",
    "        edu_female_df\n",
    "        hc_female_df\n",
    "        fin_female_df\n",
    "        edu_male_df\n",
    "        hc_male_df\n",
    "        fin_male_df \n",
    "    Party\n",
    "        edu_dem_df\n",
    "        hc_dem_df\n",
    "        fin_dem_df\n",
    "        edu_rep_df\n",
    "        hc_rep_df\n",
    "        fin_rep_df\n",
    "    "
   ]
  },
  {
   "cell_type": "markdown",
   "metadata": {},
   "source": [
    "### Sentiment Tables & Pickles\n",
    "    The build_sentiment_tables code below reads in a pickle file of the DF, applies the full_vader_speech function to add a column to each dataframe returning the average compound VADER sentiment score for each speech. The inputs retrieve the pickle from the ordered file structure."
   ]
  },
  {
   "cell_type": "code",
   "execution_count": null,
   "metadata": {},
   "outputs": [],
   "source": [
    "## Uncomment (if needed) to build the theme and era sentiment tables\n",
    "\n",
    "# edu_df = build_sentiment_tables('topic','edu_df')\n",
    "# hc_df = build_sentiment_tables('topic','hc_df')\n",
    "# fin_df = build_sentiment_tables('topic','fin_df')\n",
    "# reagan_df = build_sentiment_tables('era','reagan_df')\n",
    "# bush_df = build_sentiment_tables('era','bush_df')\n",
    "# clinton_df = build_sentiment_tables('era','clinton_df')\n",
    "# w_bush_df = build_sentiment_tables('era','w_bush_df')\n",
    "# obama_df = build_sentiment_tables('era','obama_df')"
   ]
  },
  {
   "cell_type": "code",
   "execution_count": null,
   "metadata": {},
   "outputs": [],
   "source": [
    "## Uncomment (if needed) to build the theme-gender and theme-party sentiment tables\n",
    "\n",
    "female_df = build_sentiment_tables('gender','female_df')\n",
    "male_df = build_sentiment_tables('gender','male_df')\n",
    "edu_male_df = build_sentiment_tables('gender','edu_male_df')\n",
    "edu_female_df = build_sentiment_tables('gender','edu_female_df')\n",
    "hc_female_df = build_sentiment_tables('gender','hc_female_df')\n",
    "fin_female_df = build_sentiment_tables('gender','fin_female_df')\n",
    "hc_male_df = build_sentiment_tables('gender','hc_male_df')\n",
    "fin_male_df = build_sentiment_tables('gender','fin_male_df')\n",
    "edu_dem_df = build_sentiment_tables('party','edu_dem_df')\n",
    "edu_rep_df = build_sentiment_tables('party','edu_rep_df')\n",
    "hc_dem_df = build_sentiment_tables('party','hc_dem_df')\n",
    "fin_dem_df = build_sentiment_tables('party','fin_dem_df')\n",
    "hc_rep_df = build_sentiment_tables('party','hc_rep_df')\n",
    "fin_rep_df = build_sentiment_tables('party','fin_rep_df')"
   ]
  },
  {
   "cell_type": "code",
   "execution_count": null,
   "metadata": {},
   "outputs": [],
   "source": [
    "pickle.dump(female_df, open(\"./data/pickles/party/female_df.pkl\", \"wb\"))"
   ]
  },
  {
   "cell_type": "markdown",
   "metadata": {},
   "source": [
    "### Vader Analysis"
   ]
  },
  {
   "cell_type": "markdown",
   "metadata": {},
   "source": [
    "#### Sentiment Capture & Indexing"
   ]
  },
  {
   "cell_type": "code",
   "execution_count": null,
   "metadata": {},
   "outputs": [],
   "source": [
    "edu_df['year'] = pd.DatetimeIndex(edu_df['date']).year\n",
    "hc_df['year'] = pd.DatetimeIndex(hc_df['date']).year\n",
    "fin_df['year'] = pd.DatetimeIndex(fin_df['date']).year\n",
    "edu_df_sent = edu_df.groupby(['year'],as_index=False,sort=False)['sentiment_cmpd'].mean()\n",
    "hc_df_sent = hc_df.groupby(['year'],as_index=False,sort=False)['sentiment_cmpd'].mean()\n",
    "fin_df_sent = fin_df.groupby(['year'],as_index=False,sort=False)['sentiment_cmpd'].mean()"
   ]
  },
  {
   "cell_type": "markdown",
   "metadata": {},
   "source": [
    "##### Democrats "
   ]
  },
  {
   "cell_type": "code",
   "execution_count": null,
   "metadata": {},
   "outputs": [],
   "source": [
    "edu_dem_df['year'] = pd.DatetimeIndex(edu_dem_df['date']).year\n",
    "hc_dem_df['year'] = pd.DatetimeIndex(hc_dem_df['date']).year\n",
    "fin_dem_df['year'] = pd.DatetimeIndex(fin_dem_df['date']).year\n",
    "edu_dem_df_sent = edu_dem_df.groupby(['year'],as_index=False,sort=False)['sentiment_cmpd'].mean()\n",
    "hc_dem_df_sent = hc_dem_df.groupby(['year'],as_index=False,sort=False)['sentiment_cmpd'].mean()\n",
    "fin_dem_df_sent = fin_dem_df.groupby(['year'],as_index=False,sort=False)['sentiment_cmpd'].mean()"
   ]
  },
  {
   "cell_type": "markdown",
   "metadata": {},
   "source": [
    "##### Republicans "
   ]
  },
  {
   "cell_type": "code",
   "execution_count": null,
   "metadata": {},
   "outputs": [],
   "source": [
    "edu_rep_df['year'] = pd.DatetimeIndex(edu_rep_df['date']).year\n",
    "hc_rep_df['year'] = pd.DatetimeIndex(hc_rep_df['date']).year\n",
    "fin_rep_df['year'] = pd.DatetimeIndex(fin_rep_df['date']).year\n",
    "edu_rep_df_sent = edu_rep_df.groupby(['year'],as_index=False,sort=False)['sentiment_cmpd'].mean()\n",
    "hc_rep_df_sent = hc_rep_df.groupby(['year'],as_index=False,sort=False)['sentiment_cmpd'].mean()\n",
    "fin_rep_df_sent = fin_rep_df.groupby(['year'],as_index=False,sort=False)['sentiment_cmpd'].mean()"
   ]
  },
  {
   "cell_type": "markdown",
   "metadata": {},
   "source": [
    "##### Males"
   ]
  },
  {
   "cell_type": "code",
   "execution_count": null,
   "metadata": {},
   "outputs": [],
   "source": [
    "edu_male_df['year'] = pd.DatetimeIndex(edu_male_df['date']).year\n",
    "hc_male_df['year'] = pd.DatetimeIndex(hc_male_df['date']).year\n",
    "fin_male_df['year'] = pd.DatetimeIndex(fin_male_df['date']).year\n",
    "edu_male_df_sent = edu_male_df.groupby(['year'],as_index=False,sort=False)['sentiment_cmpd'].mean()\n",
    "hc_male_df_sent = hc_male_df.groupby(['year'],as_index=False,sort=False)['sentiment_cmpd'].mean()\n",
    "fin_male_df_sent = fin_male_df.groupby(['year'],as_index=False,sort=False)['sentiment_cmpd'].mean()"
   ]
  },
  {
   "cell_type": "markdown",
   "metadata": {},
   "source": [
    "##### Females"
   ]
  },
  {
   "cell_type": "code",
   "execution_count": null,
   "metadata": {},
   "outputs": [],
   "source": [
    "edu_female_df['year'] = pd.DatetimeIndex(edu_female_df['date']).year\n",
    "hc_female_df['year'] = pd.DatetimeIndex(hc_female_df['date']).year\n",
    "fin_female_df['year'] = pd.DatetimeIndex(fin_female_df['date']).year\n",
    "edu_female_df_sent = edu_female_df.groupby(['year'],as_index=False,sort=False)['sentiment_cmpd'].mean()\n",
    "hc_female_df_sent = hc_female_df.groupby(['year'],as_index=False,sort=False)['sentiment_cmpd'].mean()\n",
    "fin_female_df_sent = fin_female_df.groupby(['year'],as_index=False,sort=False)['sentiment_cmpd'].mean()"
   ]
  },
  {
   "cell_type": "markdown",
   "metadata": {},
   "source": [
    "#### Edu/HC/Fin OVERALL"
   ]
  },
  {
   "cell_type": "code",
   "execution_count": null,
   "metadata": {},
   "outputs": [],
   "source": [
    "# Let's plot the results\n",
    "import matplotlib.pyplot as plt\n",
    "sfont = {'fontname':'Spectral Bold'}\n",
    "gfont = {'fontname':'Georgia'}\n",
    "ifont = {'fontname':'Impact'}\n",
    "\n",
    "plt.rcParams['figure.figsize'] = [18, 14]\n",
    "sns.set(font_scale = 1.4)\n",
    "for index, sentiment_cmpd in enumerate(hc_df.index):\n",
    "    x = hc_df_sent.year\n",
    "    y = hc_df_sent.sentiment_cmpd\n",
    "    x2 = edu_df_sent.year\n",
    "    y2 = edu_df_sent.sentiment_cmpd\n",
    "    x3 = fin_df_sent.year\n",
    "    y3 = fin_df_sent.sentiment_cmpd\n",
    "    x4 = np.arange(1980,2017)\n",
    "    y4 = np.linspace(.05,.05,37)\n",
    "    \n",
    "    plt.plot(x, y, color='red',marker=\"o\",label='Healthcare')\n",
    "    plt.plot(x2,y2,color='blue',marker='>',ls='--',label='Education')\n",
    "    plt.plot(x3,y3,color='green',marker='P',ls='-',label='Banking')\n",
    "    plt.plot(x4,y4,color='yellow',ls='--',label='positive sentiment threshold',lw=5)\n",
    "#     plt.text(x+.001, y+.001, fin_df.index, fontsize=10)\n",
    "#     plt.xlim(-.01, .12) \n",
    "    \n",
    "# plt.figure(figsize=(15,12))\n",
    "plt.title('Education, Healthcare & Banking: \\n Yearly Sentiment Analysis',\n",
    "          **gfont, fontsize=25,fontweight=40)\n",
    "plt.xlabel('Year of our Lord',**gfont, fontsize=40)\n",
    "plt.ylabel('Positive --->',**gfont, fontsize=40)\n",
    "plt.xticks(fontsize=25)\n",
    "plt.yticks(fontsize=25)\n",
    "# plt.legend(loc=0,numpoints=1)\n",
    "# plt.savefig('ehb_overall.png');\n",
    "plt.show();"
   ]
  },
  {
   "cell_type": "markdown",
   "metadata": {},
   "source": [
    "#### Edu/HC/Fin - DEMOCRATS"
   ]
  },
  {
   "cell_type": "code",
   "execution_count": null,
   "metadata": {},
   "outputs": [],
   "source": [
    "# Let's plot the results\n",
    "import matplotlib.pyplot as plt\n",
    "sfont = {'fontname':'Spectral Bold'}\n",
    "gfont = {'fontname':'Georgia'}\n",
    "ifont = {'fontname':'Impact'}\n",
    "\n",
    "plt.rcParams['figure.figsize'] = [18, 14]\n",
    "sns.set(font_scale = 1.4)\n",
    "for index, sentiment_cmpd in enumerate(edu_dem_df.index):\n",
    "    x = edu_dem_df_sent.year\n",
    "    y = edu_dem_df_sent.sentiment_cmpd\n",
    "    x2 = hc_dem_df_sent.year\n",
    "    y2 = hc_dem_df_sent.sentiment_cmpd\n",
    "    x3 = fin_dem_df_sent.year\n",
    "    y3 = fin_dem_df_sent.sentiment_cmpd\n",
    "    \n",
    "    plt.plot(x, y, color='blue',marker=\">\",label='Education')\n",
    "    plt.plot(x2,y2,color='red',marker='P',ls='--',label='Healthcare')\n",
    "    plt.plot(x3,y3,color='green',marker='o',ls='-',label='Banking')\n",
    "#     plt.text(x+.001, y+.001, fin_df.index, fontsize=10)\n",
    "#     plt.xlim(-.01, .12) \n",
    "    \n",
    "# plt.figure(figsize=(15,12))\n",
    "plt.title('Education, Healthcare & Banking: \\n Democrat Sentiment Analysis',\n",
    "          **gfont, fontsize=25,fontweight=40)\n",
    "plt.xticks(fontsize=25)\n",
    "plt.yticks(fontsize=25)\n",
    "plt.xlabel('Year of our Lord',**gfont, fontsize=40)\n",
    "plt.ylabel('Compound Sentiment Score (.05 and above is positive)',**gfont, fontsize=25)\n",
    "# plt.legend(loc=0,numpoints=1)\n",
    "# plt.savefig('ehb_dems.png');\n",
    "plt.show();"
   ]
  },
  {
   "cell_type": "markdown",
   "metadata": {},
   "source": [
    "#### Edu/HC/Fin - REPUBLICANS"
   ]
  },
  {
   "cell_type": "code",
   "execution_count": null,
   "metadata": {},
   "outputs": [],
   "source": [
    "# Let's plot the results\n",
    "import matplotlib.pyplot as plt\n",
    "sfont = {'fontname':'Spectral Bold'}\n",
    "gfont = {'fontname':'Georgia'}\n",
    "ifont = {'fontname':'Impact'}\n",
    "\n",
    "plt.rcParams['figure.figsize'] = [18, 14]\n",
    "sns.set(font_scale = 1.4)\n",
    "for index, sentiment_cmpd in enumerate(edu_rep_df.index):\n",
    "    x = edu_rep_df_sent.year\n",
    "    y = edu_rep_df_sent.sentiment_cmpd\n",
    "    x2 = hc_rep_df_sent.year\n",
    "    y2 = hc_rep_df_sent.sentiment_cmpd\n",
    "    x3 = fin_rep_df_sent.year\n",
    "    y3 = fin_rep_df_sent.sentiment_cmpd\n",
    "    \n",
    "    plt.plot(x, y, color='cornflowerblue',marker=\">\",label='Education')\n",
    "    plt.plot(x2,y2,color='red',marker='P',ls='--',label='Healthcare')\n",
    "    plt.plot(x3,y3,color='green',marker='o',ls='-',label='Banking')\n",
    "#     plt.text(x+.001, y+.001, fin_df.index, fontsize=10)\n",
    "#     plt.xlim(-.01, .12) \n",
    "    \n",
    "# plt.figure(figsize=(15,12))\n",
    "plt.title('Education, Healthcare & Banking: \\n Republican Sentiment Analysis',\n",
    "          **gfont, fontsize=25,fontweight=40)\n",
    "plt.xlabel('Year of our Lord',**gfont, fontsize=40)\n",
    "plt.ylabel('Compound Sentiment Score (.05 and above is positive)',**gfont, fontsize=25)\n",
    "plt.xticks(fontsize=25)\n",
    "plt.yticks(fontsize=25)\n",
    "# plt.legend(loc=0,numpoints=1)\n",
    "# plt.savefig('ehb_reps.png');\n",
    "plt.show();"
   ]
  },
  {
   "cell_type": "markdown",
   "metadata": {},
   "source": [
    "#### Education - DEMS/REPS"
   ]
  },
  {
   "cell_type": "code",
   "execution_count": null,
   "metadata": {},
   "outputs": [],
   "source": [
    "# Let's plot the results\n",
    "import matplotlib.pyplot as plt\n",
    "sfont = {'fontname':'Spectral Bold'}\n",
    "gfont = {'fontname':'Georgia'}\n",
    "ifont = {'fontname':'Impact'}\n",
    "\n",
    "plt.rcParams['figure.figsize'] = [18, 14]\n",
    "sns.set(font_scale = 1.4)\n",
    "for index, sentiment_cmpd in enumerate(edu_rep_df.index):\n",
    "    x = edu_rep_df_sent.year\n",
    "    y = edu_rep_df_sent.sentiment_cmpd\n",
    "    x2 = edu_dem_df_sent.year\n",
    "    y2 = edu_dem_df_sent.sentiment_cmpd\n",
    "    \n",
    "    \n",
    "    plt.plot(x, y, color='red',marker=\">\",label='Republicans')\n",
    "    plt.plot(x2,y2,color='cornflowerblue',marker='P',ls='--',label='Democrats')\n",
    "    \n",
    "#     plt.text(x+.001, y+.001, fin_df.index, fontsize=10)\n",
    "    plt.ylim(-.02, .20) \n",
    "    \n",
    "# plt.figure(figsize=(15,12))\n",
    "plt.title('Education: \\n Dem vs. Rep Sentiment Analysis',\n",
    "          **gfont, fontsize=25,fontweight=40)\n",
    "plt.xlabel('Year of our Lord',**gfont, fontsize=40)\n",
    "plt.ylabel('Compound Sentiment Score (.05 and above is positive)',**gfont, fontsize=25)\n",
    "plt.xticks(fontsize=25)\n",
    "plt.yticks(fontsize=25)\n",
    "# plt.legend(loc=0,numpoints=1)\n",
    "plt.savefig('edu_dem_rep.png');\n",
    "plt.show();"
   ]
  },
  {
   "cell_type": "markdown",
   "metadata": {},
   "source": [
    "#### Healthcare - DEMS/REPS"
   ]
  },
  {
   "cell_type": "code",
   "execution_count": null,
   "metadata": {},
   "outputs": [],
   "source": [
    "# Let's plot the results\n",
    "import matplotlib.pyplot as plt\n",
    "sfont = {'fontname':'Spectral Bold'}\n",
    "gfont = {'fontname':'Georgia'}\n",
    "ifont = {'fontname':'Impact'}\n",
    "\n",
    "plt.rcParams['figure.figsize'] = [18, 14]\n",
    "sns.set(font_scale = 1.4)\n",
    "for index, sentiment_cmpd in enumerate(hc_rep_df.index):\n",
    "    x = hc_rep_df_sent.year\n",
    "    y = hc_rep_df_sent.sentiment_cmpd\n",
    "    x2 = hc_dem_df_sent.year\n",
    "    y2 = hc_dem_df_sent.sentiment_cmpd\n",
    "    \n",
    "    \n",
    "    plt.plot(x, y, color='red',marker=\">\",label='Republicans')\n",
    "    plt.plot(x2,y2,color='cornflowerblue',marker='P',ls='--',label='Democrats')\n",
    "    \n",
    "#     plt.text(x+.001, y+.001, fin_df.index, fontsize=10)\n",
    "    plt.ylim(-.02, .20) \n",
    "    \n",
    "# plt.figure(figsize=(15,12))\n",
    "plt.title('Healthcare: \\n Dem vs. Rep Sentiment Analysis',\n",
    "          **gfont, fontsize=25,fontweight=40)\n",
    "plt.xlabel('Year of our Lord',**gfont, fontsize=40)\n",
    "plt.ylabel('Compound Sentiment Score (.05 and above is positive)',**gfont, fontsize=25)\n",
    "plt.xticks(fontsize=25)\n",
    "plt.yticks(fontsize=25)\n",
    "# plt.legend(loc=0,numpoints=1)\n",
    "plt.savefig('hc_dem_rep.png');\n",
    "plt.show();"
   ]
  },
  {
   "cell_type": "markdown",
   "metadata": {},
   "source": [
    "#### Banking - DEMS/REPS"
   ]
  },
  {
   "cell_type": "code",
   "execution_count": null,
   "metadata": {},
   "outputs": [],
   "source": [
    "# Let's plot the results\n",
    "import matplotlib.pyplot as plt\n",
    "sfont = {'fontname':'Spectral Bold'}\n",
    "gfont = {'fontname':'Georgia'}\n",
    "ifont = {'fontname':'Impact'}\n",
    "\n",
    "plt.rcParams['figure.figsize'] = [18, 14]\n",
    "sns.set(font_scale = 1.4)\n",
    "for index, sentiment_cmpd in enumerate(fin_rep_df.index):\n",
    "    x = fin_rep_df_sent.year\n",
    "    y = fin_rep_df_sent.sentiment_cmpd\n",
    "    x2 = fin_dem_df_sent.year\n",
    "    y2 = fin_dem_df_sent.sentiment_cmpd\n",
    "    \n",
    "    \n",
    "    plt.plot(x, y, color='red',marker=\">\",label='Republicans')\n",
    "    plt.plot(x2,y2,color='cornflowerblue',marker='P',ls='--',label='Democrats')\n",
    "    \n",
    "#     plt.text(x+.001, y+.001, fin_df.index, fontsize=10)\n",
    "    plt.ylim(-.075, .20) \n",
    "    \n",
    "# plt.figure(figsize=(15,12))\n",
    "plt.title('Banking: \\n Dem vs. Rep Sentiment Analysis',\n",
    "          **gfont, fontsize=25,fontweight=40)\n",
    "plt.xlabel('Year of our Lord',**gfont, fontsize=40)\n",
    "plt.ylabel('Compound Sentiment Score (.05 and above is positive)',**gfont, fontsize=25)\n",
    "plt.xticks(fontsize=25)\n",
    "plt.yticks(fontsize=25)\n",
    "# plt.legend(loc=0,numpoints=1)\n",
    "plt.savefig('fin_dem_rep.png');\n",
    "plt.show();"
   ]
  },
  {
   "cell_type": "markdown",
   "metadata": {},
   "source": [
    "#### Education - Male/Female"
   ]
  },
  {
   "cell_type": "code",
   "execution_count": null,
   "metadata": {},
   "outputs": [],
   "source": [
    "# Let's plot the results\n",
    "import matplotlib.pyplot as plt\n",
    "sfont = {'fontname':'Spectral Bold'}\n",
    "gfont = {'fontname':'Georgia'}\n",
    "ifont = {'fontname':'Impact'}\n",
    "\n",
    "plt.rcParams['figure.figsize'] = [18, 14]\n",
    "sns.set(font_scale = 1.4)\n",
    "for index, sentiment_cmpd in enumerate(edu_male_df.index):\n",
    "    x = edu_male_df_sent.year\n",
    "    y = edu_male_df_sent.sentiment_cmpd\n",
    "    x2 = edu_female_df_sent.year\n",
    "    y2 = edu_female_df_sent.sentiment_cmpd\n",
    "    \n",
    "    \n",
    "    plt.plot(x, y, color='red',marker=\">\",label='male')\n",
    "    plt.plot(x2,y2,color='cornflowerblue',marker='P',ls='--',label='female')\n",
    "    \n",
    "#     plt.text(x+.001, y+.001, fin_df.index, fontsize=10)\n",
    "    plt.ylim(-.02, .20) \n",
    "    \n",
    "# plt.figure(figsize=(15,12))\n",
    "plt.title('Education: \\n Female vs. Male Sentiment Analysis',\n",
    "          **gfont, fontsize=25,fontweight=40)\n",
    "plt.xlabel('Year of our Lord',**gfont, fontsize=40)\n",
    "plt.ylabel('Compound Sentiment Score (.05 and above is positive)',**gfont, fontsize=25)\n",
    "plt.xticks(fontsize=25)\n",
    "plt.yticks(fontsize=25)\n",
    "# plt.legend(loc=0,numpoints=1)\n",
    "plt.savefig('edu_m_f.png');\n",
    "plt.show();"
   ]
  },
  {
   "cell_type": "markdown",
   "metadata": {},
   "source": [
    "#### Healthcare - Male/Female"
   ]
  },
  {
   "cell_type": "code",
   "execution_count": null,
   "metadata": {},
   "outputs": [],
   "source": [
    "# Let's plot the results\n",
    "import matplotlib.pyplot as plt\n",
    "sfont = {'fontname':'Spectral Bold'}\n",
    "gfont = {'fontname':'Georgia'}\n",
    "ifont = {'fontname':'Impact'}\n",
    "\n",
    "plt.rcParams['figure.figsize'] = [18, 14]\n",
    "sns.set(font_scale = 1.4)\n",
    "for index, sentiment_cmpd in enumerate(hc_male_df.index):\n",
    "    x = hc_male_df_sent.year\n",
    "    y = hc_male_df_sent.sentiment_cmpd\n",
    "    x2 = hc_female_df_sent.year\n",
    "    y2 = hc_female_df_sent.sentiment_cmpd\n",
    "    \n",
    "    \n",
    "    plt.plot(x, y, color='red',marker=\">\",label='male')\n",
    "    plt.plot(x2,y2,color='cornflowerblue',marker='P',ls='--',label='female')\n",
    "    \n",
    "#     plt.text(x+.001, y+.001, fin_df.index, fontsize=10)\n",
    "    plt.ylim(-.02, .30) \n",
    "    \n",
    "# plt.figure(figsize=(15,12))\n",
    "plt.title('Healthcare: \\n Female vs. Male Sentiment Analysis',\n",
    "          **gfont, fontsize=25,fontweight=40)\n",
    "plt.xlabel('Year of our Lord',**gfont, fontsize=40)\n",
    "plt.ylabel('Compound Sentiment Score (.05 and above is positive)',**gfont, fontsize=25)\n",
    "plt.xticks(fontsize=25)\n",
    "plt.yticks(fontsize=25)\n",
    "# plt.legend(loc=0,numpoints=1)\n",
    "plt.savefig('hc_m_f.png');\n",
    "plt.show();"
   ]
  },
  {
   "cell_type": "markdown",
   "metadata": {},
   "source": [
    "#### Banking - Male/Female"
   ]
  },
  {
   "cell_type": "code",
   "execution_count": null,
   "metadata": {},
   "outputs": [],
   "source": [
    "# Let's plot the results\n",
    "import matplotlib.pyplot as plt\n",
    "sfont = {'fontname':'Spectral Bold'}\n",
    "gfont = {'fontname':'Georgia'}\n",
    "ifont = {'fontname':'Impact'}\n",
    "\n",
    "plt.rcParams['figure.figsize'] = [18, 14]\n",
    "sns.set(font_scale = 1.4)\n",
    "for index, sentiment_cmpd in enumerate(fin_male_df.index):\n",
    "    x = fin_male_df_sent.year\n",
    "    y = fin_male_df_sent.sentiment_cmpd\n",
    "    x2 = fin_female_df_sent.year\n",
    "    y2 = fin_female_df_sent.sentiment_cmpd\n",
    "    \n",
    "    \n",
    "    plt.plot(x, y, color='red',marker=\">\",label='male')\n",
    "    plt.plot(x2,y2,color='cornflowerblue',marker='P',ls='--',label='female')\n",
    "    \n",
    "#     plt.text(x+.001, y+.001, fin_df.index, fontsize=10)\n",
    "    plt.ylim(-.075, .20) \n",
    "    \n",
    "# plt.figure(figsize=(15,12))\n",
    "plt.title('Banking: \\n Female vs. Male Sentiment Analysis',\n",
    "          **gfont, fontsize=25,fontweight=40)\n",
    "plt.xlabel('Year of our Lord',**gfont, fontsize=40)\n",
    "plt.ylabel('Compound Sentiment Score (.05 and above is positive)',**gfont, fontsize=25)\n",
    "plt.xticks(fontsize=25)\n",
    "plt.yticks(fontsize=25)\n",
    "# plt.legend(loc=0,numpoints=1)\n",
    "plt.savefig('fin_m_f.png');\n",
    "plt.show();"
   ]
  },
  {
   "cell_type": "markdown",
   "metadata": {},
   "source": [
    "### Code Archive- DISREGARD"
   ]
  },
  {
   "cell_type": "code",
   "execution_count": null,
   "metadata": {},
   "outputs": [],
   "source": [
    "# Stop 1 on my journey to building the automatic VADER machine full_vader_speech\n",
    "\n",
    "# def vader_scoring (tokens):\n",
    "#     agg_score = []\n",
    "#     for token in tokens:\n",
    "#         score = vader.polarity_scores(token)\n",
    "#         agg_score.append(score)\n",
    "#     return agg_score"
   ]
  },
  {
   "cell_type": "code",
   "execution_count": null,
   "metadata": {},
   "outputs": [],
   "source": [
    "# Stop 2 on my journey to building the automatic VADER machine full_vader_speech\n",
    "\n",
    "# def speech_sentiment(vader_scores):\n",
    "#     cmpd = 0\n",
    "#     for i in vader_scores:\n",
    "#         cmpd+=(i['compound'])\n",
    "#     final_tally = cmpd / len(vader_scores)\n",
    "#     print(cmpd)\n",
    "#     print(len(vader_scores))\n",
    "#     return final_tally\n",
    "    "
   ]
  },
  {
   "cell_type": "code",
   "execution_count": null,
   "metadata": {},
   "outputs": [],
   "source": [
    "# Stop 3 on my journey to building the automatic VADER machine full_vader_speech\n",
    "\n",
    "# def vader_scores(text):\n",
    "#     token_sent = sent_tokenize().tokenize(text)\n",
    "#     score = vader.polarity_scores(sentence)\n",
    "#     print(\"{:-<40} {}\".format(sentence, str(score)))"
   ]
  },
  {
   "cell_type": "code",
   "execution_count": null,
   "metadata": {},
   "outputs": [],
   "source": [
    "# def full_vader_speech (speech):\n",
    "#     \"\"\"\n",
    "#     Full speech is passed. Tokenizes by sentence. Vader sentiment scores each sentence and\n",
    "#     appends that to a list of scores. Then each compound score is added to a summed value \n",
    "#     of compound vader scores. Lastly dividing summed compound value by the length of the \n",
    "#     scores list, you find average compound sentiment score for each speech.\n",
    "#     Print statements can be uncommented to provide sanity check as it did for me.\n",
    "#     \"\"\"\n",
    "#     vader = SentimentIntensityAnalyzer()\n",
    "#     tokens = sent_tokenize(speech)\n",
    "#     all_scores = []\n",
    "#     cmpd = 0\n",
    "#     for token in tokens:\n",
    "#         score = vader.polarity_scores(token)\n",
    "#         all_scores.append(score)\n",
    "#     for i in all_scores:\n",
    "#         cmpd+=(i['compound'])\n",
    "#     final_tally = cmpd / len(all_scores)\n",
    "# #     print(cmpd)\n",
    "# #     print(len(all_scores))\n",
    "#     return final_tally"
   ]
  },
  {
   "cell_type": "code",
   "execution_count": null,
   "metadata": {},
   "outputs": [],
   "source": [
    "# def build_sentiment_tables(kind, dataframe):\n",
    "#     dataframe = pd.read_pickle('./data/pickles/'+kind+'/'+dataframe+'.pkl')\n",
    "#     dataframe['sentiment_cmpd']= dataframe.speech.apply(lambda x: full_vader_speech(x))\n",
    "#     return dataframe\n",
    "        "
   ]
  }
 ],
 "metadata": {
  "kernelspec": {
   "display_name": "Python [conda env:metis] *",
   "language": "python",
   "name": "conda-env-metis-py"
  },
  "language_info": {
   "codemirror_mode": {
    "name": "ipython",
    "version": 3
   },
   "file_extension": ".py",
   "mimetype": "text/x-python",
   "name": "python",
   "nbconvert_exporter": "python",
   "pygments_lexer": "ipython3",
   "version": "3.7.4"
  },
  "toc": {
   "base_numbering": 1,
   "nav_menu": {},
   "number_sections": false,
   "sideBar": true,
   "skip_h1_title": false,
   "title_cell": "Table of Contents",
   "title_sidebar": "Contents",
   "toc_cell": false,
   "toc_position": {
    "height": "calc(100% - 180px)",
    "left": "10px",
    "top": "150px",
    "width": "256px"
   },
   "toc_section_display": true,
   "toc_window_display": true
  }
 },
 "nbformat": 4,
 "nbformat_minor": 4
}
